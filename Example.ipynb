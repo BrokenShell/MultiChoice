{
 "cells": [
  {
   "cell_type": "markdown",
   "metadata": {
    "colab_type": "text",
    "id": "tzEz-UfRdsqs"
   },
   "source": [
    "# MultiChoice\n",
    "\n",
    "MultiChoice is a framework for generating formatted user input queries on the terminal. Especially multiple choice questions."
   ]
  },
  {
   "cell_type": "markdown",
   "metadata": {
    "colab_type": "text",
    "id": "oiGmal7Ginv_"
   },
   "source": [
    "### Files & Documentation\n",
    "- [MultiChoice on Github](https://github.com/BrokenShell/MultiChoice) \n",
    "- [MultiChoice on PyPi](https://pypi.org/project/MultiChoice/)"
   ]
  },
  {
   "cell_type": "markdown",
   "metadata": {
    "colab_type": "text",
    "id": "fjlGGl25b1ZK"
   },
   "source": [
    "## Installation"
   ]
  },
  {
   "cell_type": "code",
   "execution_count": null,
   "metadata": {
    "colab": {},
    "colab_type": "code",
    "id": "-hlt7o_tbqN5"
   },
   "outputs": [],
   "source": [
    "!pip install MultiChoice"
   ]
  },
  {
   "cell_type": "markdown",
   "metadata": {
    "colab_type": "text",
    "id": "WoyHJ8b9b5vL"
   },
   "source": [
    "## Import"
   ]
  },
  {
   "cell_type": "code",
   "execution_count": 3,
   "metadata": {
    "colab": {},
    "colab_type": "code",
    "id": "lvqpGxfwSK2C"
   },
   "outputs": [],
   "source": [
    "from MultiChoice import MultiChoice, Question, TrueFalse"
   ]
  },
  {
   "cell_type": "markdown",
   "metadata": {
    "colab_type": "text",
    "id": "UCrQWjrlSo_0"
   },
   "source": [
    "## Define Questions\n",
    "This is the setup phase, nothing is output to the user yet."
   ]
  },
  {
   "cell_type": "code",
   "execution_count": 4,
   "metadata": {
    "colab": {},
    "colab_type": "code",
    "id": "2LVZ4LydSqr3"
   },
   "outputs": [],
   "source": [
    "question_1 = Question(\"What is your name?\")\n",
    "\n",
    "question_2 = TrueFalse(\n",
    "    \"True or false\\n\"\n",
    "    \"You think of yourself as a Pythonista.\"\n",
    ")\n",
    "\n",
    "question_3 = MultiChoice(\n",
    "    \"What is your favorite color?\\n\"\n",
    "    \"You must choose one of the following:\",\n",
    "    options=(\"Red\", \"Orange\", \"Yellow\", \"Green\", \"Blue\", \"Purple\"),\n",
    ")\n",
    "\n",
    "question_4 = MultiChoice(\n",
    "    \"What is your favorite programming language?\\n\"\n",
    "    \"Choose one of the following or enter a custom choice.\",\n",
    "    options=(\"C/C++\", \"JavaScript\", \"Java\", \"Kotlin\"),\n",
    "    strict=False,\n",
    ")\n"
   ]
  },
  {
   "cell_type": "markdown",
   "metadata": {
    "colab_type": "text",
    "id": "1bOiV4qpeOOz"
   },
   "source": [
    "The `strict=False` flag above will allow the user to specify a custom response to question 4."
   ]
  },
  {
   "cell_type": "markdown",
   "metadata": {
    "colab_type": "text",
    "id": "JbjDSIN8Sk2A"
   },
   "source": [
    "## Ask Questions\n",
    "Calling the question instance will ask the user for input and return their answer. The answer is not saved in the object, you must assign the result to a variable or use it directly: `print(question())`."
   ]
  },
  {
   "cell_type": "code",
   "execution_count": 5,
   "metadata": {
    "colab": {
     "base_uri": "https://localhost:8080/",
     "height": 459
    },
    "colab_type": "code",
    "id": "Ktgwq4q8SY4R",
    "outputId": "35c11b9d-5e33-45c2-fcd1-350634f6433f"
   },
   "outputs": [
    {
     "name": "stdout",
     "output_type": "stream",
     "text": [
      "What is your name?\n",
      ">>> Robert\n",
      "\n",
      "True or false\n",
      "You think of yourself as a Pythonista.\n",
      "1. True\n",
      "2. False\n",
      ">>> 1\n",
      "\n",
      "What is your favorite color?\n",
      "You must choose one of the following:\n",
      "1. Red\n",
      "2. Orange\n",
      "3. Yellow\n",
      "4. Green\n",
      "5. Blue\n",
      "6. Purple\n",
      ">>> blue\n",
      "\n",
      "What is your favorite programming language?\n",
      "Choose one of the following or enter a custom choice.\n",
      "1. C/C++\n",
      "2. Javascript\n",
      "3. Java\n",
      "4. Kotlin\n",
      ">>> Python3\n",
      "\n"
     ]
    }
   ],
   "source": [
    "name = question_1()\n",
    "print()\n",
    "pythonista = question_2()\n",
    "print()\n",
    "color = question_3()\n",
    "print()\n",
    "language = question_4()\n",
    "print()"
   ]
  },
  {
   "cell_type": "markdown",
   "metadata": {
    "colab_type": "text",
    "id": "vEZ2xeLvSivI"
   },
   "source": [
    "## Print Answers"
   ]
  },
  {
   "cell_type": "code",
   "execution_count": 6,
   "metadata": {
    "colab": {
     "base_uri": "https://localhost:8080/",
     "height": 85
    },
    "colab_type": "code",
    "id": "YBIW1-xgSaLM",
    "outputId": "1cba795f-78f0-4aa4-a2d3-541d50fa7e85"
   },
   "outputs": [
    {
     "name": "stdout",
     "output_type": "stream",
     "text": [
      "Name: Robert\n",
      "Pythonista: True\n",
      "Favorite Color: Blue\n",
      "Favorite Language: Python3\n"
     ]
    }
   ],
   "source": [
    "print(f\"Name: {name}\")\n",
    "print(f\"Pythonista: {pythonista}\")\n",
    "print(f\"Favorite Color: {color}\")\n",
    "print(f\"Favorite Language: {language}\")"
   ]
  },
  {
   "cell_type": "markdown",
   "metadata": {
    "colab_type": "text",
    "id": "yz5ox6K-fghO"
   },
   "source": [
    "At this point the question object can be re-used if needed. User answers are not saved inside the questions and will not conflict with future calls for user input. This means the same question can be used in various contexts through out the application efficiently."
   ]
  }
 ],
 "metadata": {
  "colab": {
   "collapsed_sections": [],
   "name": "questionnaire.ipynb",
   "provenance": []
  },
  "kernelspec": {
   "display_name": "Python 3",
   "language": "python",
   "name": "python3"
  },
  "language_info": {
   "codemirror_mode": {
    "name": "ipython",
    "version": 3
   },
   "file_extension": ".py",
   "mimetype": "text/x-python",
   "name": "python",
   "nbconvert_exporter": "python",
   "pygments_lexer": "ipython3",
   "version": "3.7.4"
  }
 },
 "nbformat": 4,
 "nbformat_minor": 1
}
