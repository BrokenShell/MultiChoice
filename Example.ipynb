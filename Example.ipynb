{
  "nbformat": 4,
  "nbformat_minor": 0,
  "metadata": {
    "colab": {
      "name": "questionnaire.ipynb",
      "provenance": []
    },
    "kernelspec": {
      "name": "python3",
      "display_name": "Python 3"
    }
  },
  "cells": [
    {
      "cell_type": "code",
      "metadata": {
        "id": "lvqpGxfwSK2C",
        "colab_type": "code",
        "colab": {}
      },
      "source": [
        "from MultiChoice import MultiChoice, FillBlank, TrueFalse"
      ],
      "execution_count": 0,
      "outputs": []
    },
    {
      "cell_type": "markdown",
      "metadata": {
        "id": "UCrQWjrlSo_0",
        "colab_type": "text"
      },
      "source": [
        "## Define Questions\n"
      ]
    },
    {
      "cell_type": "code",
      "metadata": {
        "id": "2LVZ4LydSqr3",
        "colab_type": "code",
        "colab": {}
      },
      "source": [
        "question_1 = FillBlank(\"What is your name?\")\n",
        "question_2 = TrueFalse(\"True or false, Python is the best.\")\n",
        "question_3 = MultiChoice(\n",
        "    \"What is your favorite color?\\n\"\n",
        "    \"You must choose one of the following:\",\n",
        "    options=(\"Red\", \"Orange\", \"Yellow\", \"Green\", \"Blue\", \"Purple\"),\n",
        ")\n",
        "question_4 = MultiChoice(\n",
        "    \"What is your favorite programming language?\\n\"\n",
        "    \"Choose one of the following or enter a custom choice.\",\n",
        "    (\"Python\", \"C/C++\", \"JavaScript\", \"Java\", \"Kotlin\"),\n",
        "    strict=False,\n",
        ")"
      ],
      "execution_count": 0,
      "outputs": []
    },
    {
      "cell_type": "markdown",
      "metadata": {
        "id": "JbjDSIN8Sk2A",
        "colab_type": "text"
      },
      "source": [
        "## Ask Questions"
      ]
    },
    {
      "cell_type": "code",
      "metadata": {
        "id": "Ktgwq4q8SY4R",
        "colab_type": "code",
        "colab": {
          "base_uri": "https://localhost:8080/",
          "height": 408
        },
        "outputId": "a0cf92e1-ee9c-4c1a-b6d5-b4cf7e422581"
      },
      "source": [
        "name = question_1()\n",
        "pythonista = question_2()\n",
        "color = question_3()\n",
        "language = question_4()"
      ],
      "execution_count": 7,
      "outputs": [
        {
          "output_type": "stream",
          "text": [
            "What is your name?\n",
            ":> Robert\n",
            "True or false, Python is the best.\n",
            "1. True\n",
            "2. False\n",
            ":> 1\n",
            "What is your favorite color?\n",
            "You must choose one of the following:\n",
            "1. Red\n",
            "2. Orange\n",
            "3. Yellow\n",
            "4. Green\n",
            "5. Blue\n",
            "6. Purple\n",
            ":> blue\n",
            "What is your favorite programming language?\n",
            "Choose one of the following or enter a custom choice.\n",
            "1. Python\n",
            "2. C/C++\n",
            "3. Javascript\n",
            "4. Java\n",
            "5. Kotlin\n",
            ":> Python3\n"
          ],
          "name": "stdout"
        }
      ]
    },
    {
      "cell_type": "markdown",
      "metadata": {
        "id": "vEZ2xeLvSivI",
        "colab_type": "text"
      },
      "source": [
        "## Print Answers"
      ]
    },
    {
      "cell_type": "code",
      "metadata": {
        "id": "YBIW1-xgSaLM",
        "colab_type": "code",
        "colab": {
          "base_uri": "https://localhost:8080/",
          "height": 85
        },
        "outputId": "f50a39d6-bd24-413b-bdbf-a9ba7be33520"
      },
      "source": [
        "print(f\"Name: {name}\")\n",
        "print(f\"Pythonista: {pythonista}\")\n",
        "print(f\"Favorite Color: {color}\")\n",
        "print(f\"Favorite Language: {language}\")"
      ],
      "execution_count": 8,
      "outputs": [
        {
          "output_type": "stream",
          "text": [
            "Name: Robert\n",
            "Pythonista: True\n",
            "Favorite Color: Blue\n",
            "Favorite Language: Python3\n"
          ],
          "name": "stdout"
        }
      ]
    }
  ]
}